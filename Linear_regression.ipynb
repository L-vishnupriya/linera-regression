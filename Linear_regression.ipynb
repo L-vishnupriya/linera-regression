{
  "nbformat": 4,
  "nbformat_minor": 0,
  "metadata": {
    "colab": {
      "provenance": []
    },
    "kernelspec": {
      "name": "python3",
      "display_name": "Python 3"
    },
    "language_info": {
      "name": "python"
    }
  },
  "cells": [
    {
      "cell_type": "code",
      "execution_count": null,
      "metadata": {
        "id": "wSc_nv4_PQjO"
      },
      "outputs": [],
      "source": [
        "import numpy as np\n",
        "import matplotlib.pyplot as plt\n",
        "\n",
        "def feature_scaling(X):\n",
        "    # Subtract the mean value of each feature\n",
        "    X_mean = np.mean(X, axis=0)\n",
        "    X_scaled = X - X_mean\n",
        "\n",
        "    # Scale (divide) the feature values by their respective standard deviation\n",
        "    X_std = np.std(X_scaled, axis=0)\n",
        "    X_scaled /= X_std\n",
        "\n",
        "    return X_scaled, X_mean, X_std\n"
      ]
    },
    {
      "cell_type": "code",
      "source": [
        "def cost_function(X, y, theta):\n",
        "    m = len(y)\n",
        "    J = np.sum((X.dot(theta) - y) ** 2) / (2 * m)\n",
        "    return J\n"
      ],
      "metadata": {
        "id": "LYduY0mBPRex"
      },
      "execution_count": null,
      "outputs": []
    },
    {
      "cell_type": "code",
      "source": [
        "def gradient_descent(X, y, theta, alpha, iterations):\n",
        "    m = len(y)\n",
        "    cost_history = []\n",
        "\n",
        "    for _ in range(iterations):\n",
        "        error = X.dot(theta) - y\n",
        "        theta -= (alpha / m) * (X.T.dot(error))\n",
        "        cost = cost_function(X, y, theta)\n",
        "        cost_history.append(cost)\n",
        "\n",
        "    return theta, cost_history"
      ],
      "metadata": {
        "id": "uRLX7ZHWPRs0"
      },
      "execution_count": null,
      "outputs": []
    },
    {
      "cell_type": "code",
      "source": [
        "# Load data from the text file\n",
        "data = np.loadtxt(\"/content/ex1data2.txt\", delimiter=',')\n",
        "\n",
        "# Extract features (X) and target variable (y)\n",
        "X = data[:, :-1]\n",
        "y = data[:, -1]\n"
      ],
      "metadata": {
        "id": "0fhTMC3LPR3G"
      },
      "execution_count": null,
      "outputs": []
    },
    {
      "cell_type": "code",
      "source": [
        "# Feature scaling\n",
        "X_scaled, X_mean, X_std = feature_scaling(X)\n",
        "\n",
        "# Add a column of ones to X for the bias term\n",
        "X_scaled = np.column_stack((np.ones(len(X_scaled)), X_scaled))\n"
      ],
      "metadata": {
        "id": "EfHkNYDGPSBi"
      },
      "execution_count": null,
      "outputs": []
    },
    {
      "cell_type": "code",
      "source": [
        "# Initialize theta (weights)\n",
        "theta = np.zeros(X_scaled.shape[1])\n",
        "\n",
        "# Set hyperparameters\n",
        "alpha = 0.01\n",
        "iterations = 1000\n",
        "\n",
        "# Perform gradient descent\n",
        "theta, cost_history = gradient_descent(X_scaled, y, theta, alpha, iterations)\n"
      ],
      "metadata": {
        "id": "-VIecD2TPSJJ"
      },
      "execution_count": null,
      "outputs": []
    },
    {
      "cell_type": "code",
      "source": [
        "# Plot the cost function over iterations\n",
        "plt.plot(range(iterations), cost_history)\n",
        "plt.xlabel('Iterations')\n",
        "plt.ylabel('Cost')\n",
        "plt.title('Cost Function Over Iterations')\n",
        "plt.show()\n",
        "\n",
        "# Print the final parameters (theta)\n",
        "print(\"Final Parameters (theta):\", theta)\n",
        "\n",
        "# Print the final cost\n",
        "print(\"Final Cost:\", cost_history[-1])\n"
      ],
      "metadata": {
        "colab": {
          "base_uri": "https://localhost:8080/",
          "height": 507
        },
        "id": "s3VpLZ9OPSRv",
        "outputId": "768fd349-e11b-403c-cf61-e2b9128507d5"
      },
      "execution_count": null,
      "outputs": [
        {
          "output_type": "display_data",
          "data": {
            "text/plain": [
              "<Figure size 640x480 with 1 Axes>"
            ],
            "image/png": "[encoded data removed]"
          },
          "metadata": {}
        },
        {
          "output_type": "stream",
          "name": "stdout",
          "text": [
            "Final Parameters (theta): [340397.96353532 108742.65627238  -5873.22993383]\n",
            "Final Cost: 2043498948.1433072\n"
          ]
        }
      ]
    }
  ]
}